{
  "nbformat": 4,
  "nbformat_minor": 0,
  "metadata": {
    "colab": {
      "name": "Shikibetsu.ipynb",
      "provenance": []
    },
    "kernelspec": {
      "name": "python3",
      "display_name": "Python 3"
    }
  },
  "cells": [
    {
      "cell_type": "code",
      "metadata": {
        "id": "276Y4EA3UlFo",
        "colab_type": "code",
        "colab": {}
      },
      "source": [
        "import torch\n",
        "import torchvision.models as models\n",
        "\n",
        "#Siamese(2 parallel networks) Network which will take a pair of input images for comparison and \n",
        "#identifying whether they are from the same person or not.\n",
        "\n",
        "#The base network is GoogLeNet pre-trained on Imagenet database.\n",
        "basenet1 = models.googlenet(pretrained=True)\n",
        "basenet2 = models.googlenet(pretrained=True)"
      ],
      "execution_count": 0,
      "outputs": []
    }
  ]
}