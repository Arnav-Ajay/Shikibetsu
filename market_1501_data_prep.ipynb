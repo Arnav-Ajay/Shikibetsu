{
  "nbformat": 4,
  "nbformat_minor": 0,
  "metadata": {
    "colab": {
      "name": "market-1501_data-prep.ipynb",
      "provenance": [],
      "collapsed_sections": []
    },
    "kernelspec": {
      "name": "python3",
      "display_name": "Python 3"
    },
    "language_info": {
      "name": "python"
    }
  },
  "cells": [
    {
      "cell_type": "code",
      "metadata": {
        "id": "Z8S2B_bek1Xt"
      },
      "source": [
        "import os\n",
        "from shutil import copyfile"
      ],
      "execution_count": null,
      "outputs": []
    },
    {
      "cell_type": "code",
      "metadata": {
        "id": "qspQ3_8XpZvl"
      },
      "source": [
        "# Change the path to your dataset directory\n",
        "\n",
        "home_dir = '/content/drive/MyDrive/Shikibetsu_Datasets'\n",
        "download_path = home_dir + '/Market-1501'\n",
        "\n",
        "if not os.path.isdir(download_path):\n",
        "    print('please change the download_path')\n",
        "\n",
        "# change path if you want a different directory to contain the prepared dataset\n",
        "save_path = home_dir + '/prepared/Market-1501'\n",
        "\n",
        "if not os.path.isdir(save_path):\n",
        "    os.mkdir(save_path)"
      ],
      "execution_count": null,
      "outputs": []
    },
    {
      "cell_type": "code",
      "metadata": {
        "id": "mNgO8PGypm7q"
      },
      "source": [
        "#query\n",
        "\n",
        "query_path = download_path + '/query'\n",
        "query_save_path = save_path + '/query'\n",
        "if not os.path.isdir(query_save_path):\n",
        "    os.mkdir(query_save_path)\n",
        "\n",
        "for root, dirs, files in os.walk(query_path, topdown=True):\n",
        "    for name in files:\n",
        "        if not name[-3:]=='jpg':\n",
        "            continue\n",
        "        ID  = name.split('_')\n",
        "        src_path = query_path + '/' + name\n",
        "        dst_path = query_save_path + '/' + ID[0] \n",
        "        if not os.path.isdir(dst_path):\n",
        "            os.mkdir(dst_path)\n",
        "        copyfile(src_path, dst_path + '/' + name)"
      ],
      "execution_count": null,
      "outputs": []
    },
    {
      "cell_type": "code",
      "metadata": {
        "id": "_SOB4uhepkue"
      },
      "source": [
        "# testing data saved in 'gallery' directory\n",
        "\n",
        "gallery_path = download_path + '/bounding_box_test'\n",
        "gallery_save_path = save_path + '/gallery'\n",
        "if not os.path.isdir(gallery_save_path):\n",
        "    os.mkdir(gallery_save_path)\n",
        "\n",
        "for root, dirs, files in os.walk(gallery_path, topdown=True):\n",
        "    for name in files:\n",
        "        if not name[-3:]=='jpg':\n",
        "            continue\n",
        "        ID  = name.split('_')\n",
        "        src_path = gallery_path + '/' + name\n",
        "        dst_path = gallery_save_path + '/' + ID[0]\n",
        "        if not os.path.isdir(dst_path):\n",
        "            os.mkdir(dst_path)\n",
        "        copyfile(src_path, dst_path + '/' + name)"
      ],
      "execution_count": null,
      "outputs": []
    },
    {
      "cell_type": "code",
      "metadata": {
        "id": "bRGSGU_ppgTN"
      },
      "source": [
        "# using all of training data, and saving in 'train_all' directory\n",
        "\n",
        "train_path = download_path + '/bounding_box_train'\n",
        "train_save_path = save_path + '/train_all'\n",
        "if not os.path.isdir(train_save_path):\n",
        "    os.mkdir(train_save_path)\n",
        "\n",
        "for root, dirs, files in os.walk(train_path, topdown=True):\n",
        "    for name in files:\n",
        "        if not name[-3:]=='jpg':\n",
        "            continue\n",
        "        ID  = name.split('_')\n",
        "        src_path = train_path + '/' + name\n",
        "        dst_path = train_save_path + '/' + ID[0]\n",
        "        if not os.path.isdir(dst_path):\n",
        "            os.mkdir(dst_path)\n",
        "        copyfile(src_path, dst_path + '/' + name)"
      ],
      "execution_count": null,
      "outputs": []
    },
    {
      "cell_type": "code",
      "metadata": {
        "id": "qOv-kInlpcwW"
      },
      "source": [
        "# using training data for train-validation split, saving in 'train' and 'val' directory\n",
        "\n",
        "train_path = download_path + '/bounding_box_train'\n",
        "train_save_path = save_path + '/train'\n",
        "val_save_path = save_path + '/val'\n",
        "if not os.path.isdir(train_save_path):\n",
        "    os.mkdir(train_save_path)\n",
        "    os.mkdir(val_save_path)\n",
        "\n",
        "for root, dirs, files in os.walk(train_path, topdown=True):\n",
        "    for name in files:\n",
        "        if not name[-3:]=='jpg':\n",
        "            continue\n",
        "        ID  = name.split('_')\n",
        "        src_path = train_path + '/' + name\n",
        "        dst_path = train_save_path + '/' + ID[0]\n",
        "        if not os.path.isdir(dst_path):\n",
        "            os.mkdir(dst_path)\n",
        "            dst_path = val_save_path + '/' + ID[0]  #first image is used as val image\n",
        "            os.mkdir(dst_path)\n",
        "        copyfile(src_path, dst_path + '/' + name)"
      ],
      "execution_count": null,
      "outputs": []
    }
  ]
}